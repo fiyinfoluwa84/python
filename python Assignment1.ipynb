{
 "cells": [
  {
   "cell_type": "code",
   "execution_count": 1,
   "id": "b5bc8363-9cc7-4ca9-b24b-b191798d6888",
   "metadata": {},
   "outputs": [],
   "source": [
    "# Data Type Identification: Create four variables, one each for age, height, name, and whether you're a student. Print the type of each variable.\n"
   ]
  },
  {
   "cell_type": "code",
   "execution_count": 19,
   "id": "c0e7ba99-d8ef-4571-8cdc-bcf18830412b",
   "metadata": {},
   "outputs": [
    {
     "name": "stdin",
     "output_type": "stream",
     "text": [
      "Are you a Student?: No\n"
     ]
    }
   ],
   "source": [
    "Age=34\n",
    "Height=2\n",
    "Name='Adeniyi Fiyinfoluwa'\n",
    "Student=str(input(\"Are you a Student?:\"))"
   ]
  },
  {
   "cell_type": "code",
   "execution_count": 13,
   "id": "2cf9e5a1-8f8e-4d43-b992-3eaa854d7289",
   "metadata": {},
   "outputs": [
    {
     "name": "stdout",
     "output_type": "stream",
     "text": [
      "<class 'int'>\n"
     ]
    }
   ],
   "source": [
    "print(type(Age))"
   ]
  },
  {
   "cell_type": "code",
   "execution_count": 15,
   "id": "8f7831ad-715c-409e-9d17-25ce7aa3cb3f",
   "metadata": {},
   "outputs": [
    {
     "name": "stdout",
     "output_type": "stream",
     "text": [
      "<class 'int'>\n"
     ]
    }
   ],
   "source": [
    "print(type(Height))"
   ]
  },
  {
   "cell_type": "code",
   "execution_count": 17,
   "id": "7b4bf545-8d95-4bbc-bcad-9ce9280066b8",
   "metadata": {},
   "outputs": [
    {
     "name": "stdout",
     "output_type": "stream",
     "text": [
      "<class 'str'>\n"
     ]
    }
   ],
   "source": [
    "print(type(Name))"
   ]
  },
  {
   "cell_type": "code",
   "execution_count": null,
   "id": "8e887d6e-2e84-46ae-94a4-83a919f4ced8",
   "metadata": {},
   "outputs": [],
   "source": [
    "# Function Creation Question: Write a function called greet_user(name) that returns a welcome message."
   ]
  },
  {
   "cell_type": "code",
   "execution_count": 31,
   "id": "933c07e6-04c4-47fe-ad33-2670592b3af0",
   "metadata": {},
   "outputs": [],
   "source": [
    "name = \"Fiyinfoluwa\"\n"
   ]
  },
  {
   "cell_type": "code",
   "execution_count": 39,
   "id": "6b18c24f-7445-4e15-9d43-eba3bc48340a",
   "metadata": {},
   "outputs": [],
   "source": [
    "def greet_user(name):\n",
    "    return f\"You are welcomed, {name}!\""
   ]
  },
  {
   "cell_type": "code",
   "execution_count": 41,
   "id": "606cedc0-a1a6-44b9-a360-3c66c9c206c8",
   "metadata": {},
   "outputs": [
    {
     "name": "stdout",
     "output_type": "stream",
     "text": [
      "You are welcomed, Fiyinfoluwa!\n"
     ]
    }
   ],
   "source": [
    "print(greet_user(name))"
   ]
  },
  {
   "cell_type": "code",
   "execution_count": null,
   "id": "e94e93e9-9858-4301-b519-43531b68bacf",
   "metadata": {},
   "outputs": [],
   "source": [
    "# Mini Login System (Input + Conditions) Question: Ask the user to enter a username and password.\n",
    "# If the username is \"admin\" and the password is \"1234\", print \"Login successful\"; otherwise, print \"Access denied\"."
   ]
  },
  {
   "cell_type": "code",
   "execution_count": 43,
   "id": "ce0246f7-edb2-4df5-bde9-2f104143c08f",
   "metadata": {},
   "outputs": [
    {
     "name": "stdin",
     "output_type": "stream",
     "text": [
      "user should kindly enter his or her username: Arsenal1234\n",
      "user should kindly enter his or her password: 3456\n"
     ]
    },
    {
     "name": "stdout",
     "output_type": "stream",
     "text": [
      "Access Denied\n"
     ]
    }
   ],
   "source": [
    "username=input(\"user should kindly enter his or her username:\")\n",
    "password=input(\"user should kindly enter his or her password:\")\n",
    "if username ==\"admin\" and password == \"1234\":\n",
    "    print(\"Login Successful\")\n",
    "else:\n",
    "    print(\"Access Denied\")"
   ]
  },
  {
   "cell_type": "code",
   "execution_count": null,
   "id": "051c302c-211f-4497-88e9-a04e4a3de26a",
   "metadata": {},
   "outputs": [],
   "source": [
    "# Basic Calculator (Functions + Conditions) Question: Build a calculator that can add, subtract, multiply, or divide two numbers based on user input."
   ]
  },
  {
   "cell_type": "code",
   "execution_count": 45,
   "id": "f236fa0f-806a-4538-bee1-f1258b0b5e55",
   "metadata": {},
   "outputs": [],
   "source": [
    "def add(a,b):\n",
    "    return a+b\n",
    "def subtract(a,b):\n",
    "    return a-b\n",
    "def multiply(a,b):\n",
    "    return a*b\n",
    "def divide(a,b):\n",
    "    return a/b"
   ]
  },
  {
   "cell_type": "code",
   "execution_count": 49,
   "id": "0f4b2c00-9f6c-4cc5-8ab7-930a907db2d8",
   "metadata": {},
   "outputs": [
    {
     "name": "stdin",
     "output_type": "stream",
     "text": [
      "Enter the value of a: 3.5\n",
      "Enter the value of b: 45.75\n"
     ]
    },
    {
     "data": {
      "text/plain": [
       "160.125"
      ]
     },
     "execution_count": 49,
     "metadata": {},
     "output_type": "execute_result"
    }
   ],
   "source": [
    "a=float(input(\"Enter the value of a:\"))\n",
    "b=float(input(\"Enter the value of b:\"))\n",
    "a*b"
   ]
  },
  {
   "cell_type": "code",
   "execution_count": 51,
   "id": "1d295fb2-34c0-430e-b963-ba75fb691309",
   "metadata": {},
   "outputs": [
    {
     "name": "stdout",
     "output_type": "stream",
     "text": [
      "-2\n"
     ]
    }
   ],
   "source": [
    "print(subtract(1,3))"
   ]
  },
  {
   "cell_type": "code",
   "execution_count": null,
   "id": "223cd42d-c034-4dd8-92b4-42504d0a6244",
   "metadata": {},
   "outputs": [],
   "source": [
    "# Age Categorizer Question: Ask the user to enter their age and print the category:0–12: Child, 13–19: Teen, 20–64: Adult, 65+: Senior"
   ]
  },
  {
   "cell_type": "code",
   "execution_count": 53,
   "id": "840b0e2a-38a5-4507-b8b7-36fce9f032c6",
   "metadata": {},
   "outputs": [
    {
     "name": "stdin",
     "output_type": "stream",
     "text": [
      "Enter your age: 40\n"
     ]
    },
    {
     "name": "stdout",
     "output_type": "stream",
     "text": [
      " you are an Adult\n"
     ]
    }
   ],
   "source": [
    "age=int(input(\"Enter your age:\"))\n",
    "if age <= 12:\n",
    "    print(f\"you are a child\")\n",
    "elif age <=19:\n",
    "    print(f\"you are a Teen\")\n",
    "elif age <=64:\n",
    "    print(f\" you are an Adult\")\n",
    "else :\n",
    "    print(f\" you are a Senior\")"
   ]
  },
  {
   "cell_type": "code",
   "execution_count": null,
   "id": "5b104067-c330-41e7-a569-6e2f74aef0c6",
   "metadata": {},
   "outputs": [],
   "source": []
  }
 ],
 "metadata": {
  "kernelspec": {
   "display_name": "Python [conda env:base] *",
   "language": "python",
   "name": "conda-base-py"
  },
  "language_info": {
   "codemirror_mode": {
    "name": "ipython",
    "version": 3
   },
   "file_extension": ".py",
   "mimetype": "text/x-python",
   "name": "python",
   "nbconvert_exporter": "python",
   "pygments_lexer": "ipython3",
   "version": "3.11.7"
  }
 },
 "nbformat": 4,
 "nbformat_minor": 5
}
